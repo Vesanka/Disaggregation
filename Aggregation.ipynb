{
 "cells": [
  {
   "cell_type": "code",
   "execution_count": 1,
   "metadata": {
    "pycharm": {
     "is_executing": false,
     "name": "#%%\n"
    }
   },
   "outputs": [],
   "source": [
    "from scripts import support, metrics, vectorization as v, aggregation\n",
    "from scripts.kuroda import kuroda\n",
    "from scripts.insd import insd\n",
    "from scripts.nras import nras\n",
    "import numpy as np\n",
    "import pandas as pd\n",
    "import matplotlib.pyplot as plt\n",
    "import sys\n",
    "from scipy.sparse import csr_matrix\n",
    "%matplotlib inline"
   ]
  },
  {
   "cell_type": "markdown",
   "metadata": {},
   "source": [
    "## Prepaire data"
   ]
  },
  {
   "cell_type": "code",
   "execution_count": 2,
   "metadata": {
    "pycharm": {
     "is_executing": false,
     "name": "#%%\n"
    }
   },
   "outputs": [],
   "source": [
    "#CODES\n",
    "\n",
    "\n",
    "df = pd.read_excel(\"./data/Use_SUT_Framework_2007_2012_DET.xlsx\", \"NAICS Codes\", skiprows=4)\n",
    "df = df.iloc[:-6,:-1]\n",
    "df = df.dropna(axis=0, how = 'all')\n",
    "df = df.fillna(0)\n",
    "\n",
    "codes = np.array(df)"
   ]
  },
  {
   "cell_type": "code",
   "execution_count": 3,
   "metadata": {
    "pycharm": {
     "name": "#%%\n"
    }
   },
   "outputs": [],
   "source": [
    "#DET 2007\n",
    "\n",
    "\n",
    "df = pd.read_excel(\"./data/Use_SUT_Framework_2007_2012_DET.xlsx\", \"2007\")\n",
    "df = df.iloc[5:-11,2:-21]\n",
    "df = df.fillna(0)\n",
    "\n",
    "DET_2007 = np.array(df)\n",
    "DET_2007 = np.where(DET_2007=='...', 0, DET_2007)\n",
    "dt_2007 = v.tovector(DET_2007).astype(float)\n",
    "# np.shape(DET_2007)"
   ]
  },
  {
   "cell_type": "code",
   "execution_count": 4,
   "metadata": {
    "pycharm": {
     "name": "#%%\n"
    }
   },
   "outputs": [],
   "source": [
    "#DET 2012\n",
    "\n",
    "\n",
    "df = pd.read_excel(\"./data/Use_SUT_Framework_2007_2012_DET.xlsx\", \"2012\")\n",
    "df = df.iloc[5:-11,2:-21]\n",
    "df = df.fillna(0)\n",
    "\n",
    "DET_2012 = np.array(df)\n",
    "DET_2012 = np.where(DET_2012=='...', 0, DET_2012)\n",
    "dt_2012 = v.tovector(DET_2012).astype(float)\n",
    "\n",
    "\n",
    "#Зануляем элементы, в которых меняется знак\n",
    "det_2007 = dt_2007\n",
    "det_2012 = dt_2012\n",
    "det_2007[dt_2007 * dt_2012 < 0] = 0\n",
    "det_2012[dt_2007 * dt_2012 < 0] = 0\n",
    "DET_2012[DET_2007 * DET_2012 < 0] = 0\n",
    "\n",
    "\n",
    "#Считаем итоги по строкам и столбцам\n",
    "rows_sums_2012 = np.sum(DET_2012, axis=1)\n",
    "columns_sums_2012 = np.sum(DET_2012, axis=0)\n",
    "totals_2012 = np.concatenate((rows_sums_2012, columns_sums_2012)).astype(float)[np.newaxis].T\n",
    "# DET_2012"
   ]
  },
  {
   "cell_type": "code",
   "execution_count": 5,
   "metadata": {},
   "outputs": [],
   "source": [
    "#SUM 2007\n",
    "\n",
    "\n",
    "df = pd.read_excel(\"./data/Use_SUT_Framework_1997-2017_SUM.xlsx\", \"2007\")\n",
    "df = df.iloc[6:-9,2:-21]\n",
    "df = df.fillna(0)\n",
    "\n",
    "SUM_2007 = np.array(df)\n",
    "SUM_2007 = np.where(SUM_2007=='...', 0, SUM_2007)\n",
    "\n",
    "SUM_2007[[72, 71]] = SUM_2007[[71, 72]]\n",
    "sum_2007 = v.tovector(SUM_2007).astype(float)\n",
    "\n",
    "#Считаем итоги по строкам и столбцам\n",
    "rows_sums_2007 = np.sum(DET_2007, axis=1)\n",
    "columns_sums_2007 = np.sum(DET_2007, axis=0)\n",
    "totals_2007 = np.concatenate((rows_sums_2007, columns_sums_2007)).astype(float)[np.newaxis].T\n",
    "# np.shape(SUM_2007)"
   ]
  },
  {
   "cell_type": "code",
   "execution_count": 6,
   "metadata": {},
   "outputs": [],
   "source": [
    "#SUM 2012\n",
    "\n",
    "\n",
    "df = pd.read_excel(\"./data/Use_SUT_Framework_1997-2017_SUM.xlsx\", \"2012\")\n",
    "df = df.iloc[6:-9,2:-21]\n",
    "df = df.fillna(0)\n",
    "\n",
    "SUM_2012 = np.array(df)\n",
    "SUM_2012 = np.where(SUM_2012=='...', 0, SUM_2012)\n",
    "\n",
    "SUM_2012[[72, 71]] = SUM_2012[[71, 72]]\n",
    "sum_2012 = v.tovector(SUM_2012).astype(float)\n",
    "# SUM_2012"
   ]
  },
  {
   "cell_type": "code",
   "execution_count": 7,
   "metadata": {},
   "outputs": [],
   "source": [
    "#SECT 2007\n",
    "\n",
    "\n",
    "df = pd.read_excel(\"./data/Use_SUT_Framework_1997-2017_SECT.xlsx\", \"2007\")\n",
    "df = df.iloc[6:-9, 2:-7]\n",
    "df = df.fillna(0)\n",
    "\n",
    "SECT_2007 = np.array(df)\n",
    "SECT_2007 = np.where(SECT_2007=='...', 0, SECT_2007)\n",
    "sect_2007 = v.tovector(SECT_2007).astype(float)\n",
    "# SECT_2007"
   ]
  },
  {
   "cell_type": "code",
   "execution_count": 8,
   "metadata": {},
   "outputs": [],
   "source": [
    "#SECT 2012\n",
    "\n",
    "\n",
    "df = pd.read_excel(\"./data/Use_SUT_Framework_1997-2017_SECT.xlsx\", \"2012\")\n",
    "df = df.iloc[6:-9, 2:-7]\n",
    "df = df.fillna(0)\n",
    "\n",
    "SECT_2012 = np.array(df)\n",
    "SECT_2012 = np.where(SECT_2012=='...', 0, SECT_2012)\n",
    "sect_2012 = v.tovector(SECT_2012).astype(float)\n",
    "# SECT_2012"
   ]
  },
  {
   "cell_type": "code",
   "execution_count": 9,
   "metadata": {},
   "outputs": [],
   "source": [
    "#parsing aggregation codes\n",
    "\n",
    "\n",
    "sect_rows, sect_columns, sum_rows, sum_columns = aggregation.parse_agg(codes)"
   ]
  },
  {
   "cell_type": "code",
   "execution_count": 10,
   "metadata": {
    "pycharm": {
     "name": "#%%\n"
    }
   },
   "outputs": [],
   "source": [
    "#Составляем матрицы-ключи агрегации и векторизованный вид\n",
    "#Для аггрегации в SUM (73,71)\n",
    "\n",
    "left_sum = aggregation.make_keym(405, 73, sum_rows)\n",
    "right_sum = aggregation.make_keym(405, 71, sum_columns)\n",
    "\n",
    "g_to_sum = csr_matrix(aggregation.keys_to_g(left_sum, right_sum))"
   ]
  },
  {
   "cell_type": "code",
   "execution_count": 11,
   "metadata": {
    "pycharm": {
     "name": "#%%\n"
    }
   },
   "outputs": [],
   "source": [
    "#Составляем матрицы-ключи агрегации и векторизованный вид\n",
    "#Для аггрегации в SECT (17,15)\n",
    "\n",
    "left_sect = aggregation.make_keym(405, 17, sect_rows)\n",
    "right_sect = aggregation.make_keym(405, 15, sect_columns)\n",
    "\n",
    "g_to_sect = csr_matrix(aggregation.keys_to_g(left_sect, right_sect))"
   ]
  },
  {
   "cell_type": "code",
   "execution_count": 12,
   "metadata": {},
   "outputs": [],
   "source": [
    "true_sum_2012 = g_to_sum @ det_2012"
   ]
  },
  {
   "cell_type": "code",
   "execution_count": 13,
   "metadata": {},
   "outputs": [],
   "source": [
    "true_sect_2012 = g_to_sect @ det_2012"
   ]
  },
  {
   "cell_type": "code",
   "execution_count": 14,
   "metadata": {},
   "outputs": [],
   "source": [
    "# Add totals to aggregation\n",
    "sum_2012_with_totals = np.append(sum_2012, totals_2012, axis=0)\n",
    "true_sum_2012_with_totals = np.append(true_sum_2012, totals_2012, axis=0)\n",
    "\n",
    "\n",
    "g_sum_w_totals = v.addrows((405,405), g_to_sum, sparsed=True)\n",
    "g_sum_w_totals = v.addcolumns((405,405), g_sum_w_totals, sparsed=True)"
   ]
  },
  {
   "cell_type": "code",
   "execution_count": 15,
   "metadata": {},
   "outputs": [],
   "source": [
    "from scripts import support, metrics, vectorization as v, aggregation\n",
    "def experiment(tables_kind, method_name, bench_matrix, origin_matrix, target_matrix, experiment_type, sparsed = True, save = True, totals = False):\n",
    "    \"\"\"\n",
    "    Получение результата эксперимента\n",
    "\n",
    "    Parameters\n",
    "    ----------\n",
    "    tables_kind: string\n",
    "        степень аггрегации таблиц\n",
    "    method_name: string\n",
    "        метод для получения новой матрицы\n",
    "    bench_matrix: np.array или sparse матрица\n",
    "        бенчмарк таблица\n",
    "    origin_matrix: np.array или sparse матрица\n",
    "        оригинальная таблица\n",
    "    target_matrix: np.array или sparse матрица\n",
    "        целевая таблица\n",
    "    experiment_type: string\n",
    "        агрегация\\дезаггрегация\\проекция\n",
    "    sparse: bool\n",
    "        использовать sparse матрицу или np.array\n",
    "    Returns\n",
    "    -------\n",
    "    a: float\n",
    "        значение метрики\n",
    "    \"\"\"\n",
    "    if experiment_type == 'дезаггрегация':\n",
    "        if tables_kind == 'sum':\n",
    "            g = aggregation.keys_to_g(left_sum, right_sum)\n",
    "        elif tables_kind == 'sect':\n",
    "            g = aggregation.keys_to_g(left_sect, right_sect)\n",
    "        else:\n",
    "            raise Exception(\"Wrong tables_kind\", tables_kind)\n",
    "    elif experiment_type == 'проекция':\n",
    "        ttls = v.addrows((405,405))\n",
    "        g = v.addcolumns((405,405), ttls)\n",
    "    else:\n",
    "        raise Exception(\"Wrong experiment_type\",experiment_type)  \n",
    "    \n",
    "\n",
    "    if sparsed:\n",
    "        g = csr_matrix(g)\n",
    "        \n",
    "    if totals:\n",
    "        g_w_totals = v.addrows((405,405), g, sparsed=sparsed)\n",
    "        g_w_totals = v.addcolumns((405,405), g_w_totals, sparsed=sparsed)\n",
    "    \n",
    "    # For Kuroda\n",
    "    if len(method_name.split('_')) > 1:\n",
    "        \n",
    "        method, mtype = method_name.split('_')\n",
    "        method = eval(method)\n",
    "        results = np.round(method(g, eval(bench_matrix), eval(origin_matrix), mtype=int(mtype), sparsed=sparsed))\n",
    "    else:\n",
    "        method = eval(method_name)\n",
    "        results = method(g, eval(bench_matrix), eval(origin_matrix), sparsed=sparsed)\n",
    "    metrics_values = metrics.get_values(np.round(results), eval(target_matrix), save=True)\n",
    "    \n",
    "    # Save metrics' results\n",
    "    if save:\n",
    "        info = {'method':method_name, 'experiment_type':experiment_type, 'target_matrix':target_matrix, \n",
    "                'origin_matrix':origin_matrix, 'bench_matrix':bench_matrix}\n",
    "        info = {**info,**metrics_values}\n",
    "\n",
    "        res_table = pd.read_excel('results/results.xlsx')\n",
    "        res_table = res_table.append([info])\n",
    "        res_table.to_excel('results/results.xlsx', index=None,encoding='utf-8')\n",
    "\n",
    "    return metrics_values \n",
    "\n",
    "def experiments(tables_kind, bench_matrix, origin_matrix, target_matrix, experiment_type, totals = False):\n",
    "    methods_list = ['nras','insd','kuroda_3','kuroda_2','kuroda_1']\n",
    "    sparsed = True\n",
    "    for i, method in enumerate(methods_list):\n",
    "        print('Method:', method)\n",
    "        if i > 2:\n",
    "            sparsed = False\n",
    "        experiment(tables_kind, method, bench_matrix, origin_matrix, target_matrix, experiment_type, \n",
    "                   sparsed = sparsed, totals = totals)\n",
    "            "
   ]
  },
  {
   "cell_type": "code",
   "execution_count": 16,
   "metadata": {},
   "outputs": [
    {
     "name": "stdout",
     "output_type": "stream",
     "text": [
      "Method: nras\n",
      "1\n",
      "Method: insd\n",
      "Academic license - for non-commercial use only\n",
      "Parameter BarConvTol unchanged\n",
      "   Value: 1e-08  Min: 0.0  Max: 1.0  Default: 1e-08\n",
      "Parameter BarQCPConvTol unchanged\n",
      "   Value: 1e-06  Min: 0.0  Max: 1.0  Default: 1e-06\n",
      "Changed value of parameter DualReductions to 0\n",
      "   Prev: 1  Min: 0  Max: 1  Default: 1\n",
      "Method: kuroda_3\n",
      "Parameter BarConvTol unchanged\n",
      "   Value: 1e-08  Min: 0.0  Max: 1.0  Default: 1e-08\n",
      "Parameter BarQCPConvTol unchanged\n",
      "   Value: 1e-06  Min: 0.0  Max: 1.0  Default: 1e-06\n",
      "Parameter DualReductions unchanged\n",
      "   Value: 1  Min: 0  Max: 1  Default: 1\n",
      "Method: kuroda_2\n",
      "Parameter BarConvTol unchanged\n",
      "   Value: 1e-08  Min: 0.0  Max: 1.0  Default: 1e-08\n",
      "Parameter BarQCPConvTol unchanged\n",
      "   Value: 1e-06  Min: 0.0  Max: 1.0  Default: 1e-06\n",
      "Parameter DualReductions unchanged\n",
      "   Value: 1  Min: 0  Max: 1  Default: 1\n",
      "Method: kuroda_1\n",
      "Parameter BarConvTol unchanged\n",
      "   Value: 1e-08  Min: 0.0  Max: 1.0  Default: 1e-08\n",
      "Parameter BarQCPConvTol unchanged\n",
      "   Value: 1e-06  Min: 0.0  Max: 1.0  Default: 1e-06\n",
      "Parameter DualReductions unchanged\n",
      "   Value: 1  Min: 0  Max: 1  Default: 1\n"
     ]
    }
   ],
   "source": [
    "#Эксперимент: дезаггрегация таблицы DET_2012 из таблицы SUM_2012\n",
    "#Бенчмарк: DET_2007\n",
    "#Ограничения: таблица SUM_2012\n",
    "#Методы: NRAS, точность 0.01, 100 иттераций, INSD, Kuroda(1,2,3)\n",
    "\n",
    "experiments('sum', 'det_2007', 'sum_2012', 'det_2012', 'дезаггрегация')"
   ]
  },
  {
   "cell_type": "code",
   "execution_count": 17,
   "metadata": {},
   "outputs": [
    {
     "name": "stdout",
     "output_type": "stream",
     "text": [
      "Method: nras\n",
      "1\n",
      "Method: insd\n",
      "Parameter BarConvTol unchanged\n",
      "   Value: 1e-08  Min: 0.0  Max: 1.0  Default: 1e-08\n",
      "Parameter BarQCPConvTol unchanged\n",
      "   Value: 1e-06  Min: 0.0  Max: 1.0  Default: 1e-06\n",
      "Changed value of parameter DualReductions to 0\n",
      "   Prev: 1  Min: 0  Max: 1  Default: 1\n",
      "Method: kuroda_3\n",
      "Parameter BarConvTol unchanged\n",
      "   Value: 1e-08  Min: 0.0  Max: 1.0  Default: 1e-08\n",
      "Parameter BarQCPConvTol unchanged\n",
      "   Value: 1e-06  Min: 0.0  Max: 1.0  Default: 1e-06\n",
      "Parameter DualReductions unchanged\n",
      "   Value: 1  Min: 0  Max: 1  Default: 1\n",
      "Method: kuroda_2\n",
      "Parameter BarConvTol unchanged\n",
      "   Value: 1e-08  Min: 0.0  Max: 1.0  Default: 1e-08\n",
      "Parameter BarQCPConvTol unchanged\n",
      "   Value: 1e-06  Min: 0.0  Max: 1.0  Default: 1e-06\n",
      "Parameter DualReductions unchanged\n",
      "   Value: 1  Min: 0  Max: 1  Default: 1\n",
      "Method: kuroda_1\n",
      "Parameter BarConvTol unchanged\n",
      "   Value: 1e-08  Min: 0.0  Max: 1.0  Default: 1e-08\n",
      "Parameter BarQCPConvTol unchanged\n",
      "   Value: 1e-06  Min: 0.0  Max: 1.0  Default: 1e-06\n",
      "Parameter DualReductions unchanged\n",
      "   Value: 1  Min: 0  Max: 1  Default: 1\n"
     ]
    }
   ],
   "source": [
    "#Эксперимент: дезаггрегация таблицы DET_2012 из таблицы SUM_2012\n",
    "#Бенчмарк: DET_2007\n",
    "#Ограничения: таблица true_SUM_2012\n",
    "#Методы: NRAS, точность 0.01, 100 иттераций, INSD, Kuroda(1,2,3)\n",
    "\n",
    "experiments('sum', 'det_2007', 'true_sum_2012', 'det_2012', 'дезаггрегация')"
   ]
  },
  {
   "cell_type": "code",
   "execution_count": 18,
   "metadata": {},
   "outputs": [
    {
     "name": "stdout",
     "output_type": "stream",
     "text": [
      "Method: nras\n",
      "1\n",
      "Method: insd\n",
      "Parameter BarConvTol unchanged\n",
      "   Value: 1e-08  Min: 0.0  Max: 1.0  Default: 1e-08\n",
      "Parameter BarQCPConvTol unchanged\n",
      "   Value: 1e-06  Min: 0.0  Max: 1.0  Default: 1e-06\n",
      "Changed value of parameter DualReductions to 0\n",
      "   Prev: 1  Min: 0  Max: 1  Default: 1\n",
      "Method: kuroda_3\n",
      "Parameter BarConvTol unchanged\n",
      "   Value: 1e-08  Min: 0.0  Max: 1.0  Default: 1e-08\n",
      "Parameter BarQCPConvTol unchanged\n",
      "   Value: 1e-06  Min: 0.0  Max: 1.0  Default: 1e-06\n",
      "Parameter DualReductions unchanged\n",
      "   Value: 1  Min: 0  Max: 1  Default: 1\n",
      "Method: kuroda_2\n",
      "Parameter BarConvTol unchanged\n",
      "   Value: 1e-08  Min: 0.0  Max: 1.0  Default: 1e-08\n",
      "Parameter BarQCPConvTol unchanged\n",
      "   Value: 1e-06  Min: 0.0  Max: 1.0  Default: 1e-06\n",
      "Parameter DualReductions unchanged\n",
      "   Value: 1  Min: 0  Max: 1  Default: 1\n",
      "Method: kuroda_1\n",
      "Parameter BarConvTol unchanged\n",
      "   Value: 1e-08  Min: 0.0  Max: 1.0  Default: 1e-08\n",
      "Parameter BarQCPConvTol unchanged\n",
      "   Value: 1e-06  Min: 0.0  Max: 1.0  Default: 1e-06\n",
      "Parameter DualReductions unchanged\n",
      "   Value: 1  Min: 0  Max: 1  Default: 1\n"
     ]
    }
   ],
   "source": [
    "#Эксперимент: дезаггрегация таблицы DET_2012 из таблицы SECT_2012\n",
    "#Бенчмарк: DET_2007\n",
    "#Ограничения: таблица true_SECT_2012\n",
    "#Методы: NRAS, точность 0.01, 100 иттераций, INSD, Kuroda(1,2,3)\n",
    "\n",
    "experiments('sect', 'det_2007', 'true_sect_2012', 'det_2012', 'дезаггрегация')"
   ]
  },
  {
   "cell_type": "code",
   "execution_count": 19,
   "metadata": {},
   "outputs": [
    {
     "name": "stdout",
     "output_type": "stream",
     "text": [
      "Method: nras\n",
      "1\n",
      "Method: insd\n",
      "Parameter BarConvTol unchanged\n",
      "   Value: 1e-08  Min: 0.0  Max: 1.0  Default: 1e-08\n",
      "Parameter BarQCPConvTol unchanged\n",
      "   Value: 1e-06  Min: 0.0  Max: 1.0  Default: 1e-06\n",
      "Changed value of parameter DualReductions to 0\n",
      "   Prev: 1  Min: 0  Max: 1  Default: 1\n",
      "Method: kuroda_3\n",
      "Parameter BarConvTol unchanged\n",
      "   Value: 1e-08  Min: 0.0  Max: 1.0  Default: 1e-08\n",
      "Parameter BarQCPConvTol unchanged\n",
      "   Value: 1e-06  Min: 0.0  Max: 1.0  Default: 1e-06\n",
      "Parameter DualReductions unchanged\n",
      "   Value: 1  Min: 0  Max: 1  Default: 1\n",
      "Method: kuroda_2\n",
      "Parameter BarConvTol unchanged\n",
      "   Value: 1e-08  Min: 0.0  Max: 1.0  Default: 1e-08\n",
      "Parameter BarQCPConvTol unchanged\n",
      "   Value: 1e-06  Min: 0.0  Max: 1.0  Default: 1e-06\n",
      "Parameter DualReductions unchanged\n",
      "   Value: 1  Min: 0  Max: 1  Default: 1\n",
      "Method: kuroda_1\n",
      "Parameter BarConvTol unchanged\n",
      "   Value: 1e-08  Min: 0.0  Max: 1.0  Default: 1e-08\n",
      "Parameter BarQCPConvTol unchanged\n",
      "   Value: 1e-06  Min: 0.0  Max: 1.0  Default: 1e-06\n",
      "Parameter DualReductions unchanged\n",
      "   Value: 1  Min: 0  Max: 1  Default: 1\n"
     ]
    }
   ],
   "source": [
    "#Эксперимент: дезаггрегация таблицы DET_2012 из таблицы SECT_2012\n",
    "#Бенчмарк: DET_2007\n",
    "#Ограничения: таблица SECT_2012\n",
    "#Методы: NRAS, точность 0.01, 100 иттераций, INSD, Kuroda(1,2,3)\n",
    "\n",
    "experiments('sect', 'det_2007', 'sect_2012', 'det_2012', 'дезаггрегация')"
   ]
  },
  {
   "cell_type": "code",
   "execution_count": 20,
   "metadata": {},
   "outputs": [
    {
     "name": "stdout",
     "output_type": "stream",
     "text": [
      "Method: nras\n",
      "67\n",
      "Method: insd\n",
      "Parameter BarConvTol unchanged\n",
      "   Value: 1e-08  Min: 0.0  Max: 1.0  Default: 1e-08\n",
      "Parameter BarQCPConvTol unchanged\n",
      "   Value: 1e-06  Min: 0.0  Max: 1.0  Default: 1e-06\n",
      "Changed value of parameter DualReductions to 0\n",
      "   Prev: 1  Min: 0  Max: 1  Default: 1\n",
      "Method: kuroda_3\n",
      "Parameter BarConvTol unchanged\n",
      "   Value: 1e-08  Min: 0.0  Max: 1.0  Default: 1e-08\n",
      "Parameter BarQCPConvTol unchanged\n",
      "   Value: 1e-06  Min: 0.0  Max: 1.0  Default: 1e-06\n",
      "Parameter DualReductions unchanged\n",
      "   Value: 1  Min: 0  Max: 1  Default: 1\n",
      "Method: kuroda_2\n",
      "Parameter BarConvTol unchanged\n",
      "   Value: 1e-08  Min: 0.0  Max: 1.0  Default: 1e-08\n",
      "Parameter BarQCPConvTol unchanged\n",
      "   Value: 1e-06  Min: 0.0  Max: 1.0  Default: 1e-06\n",
      "Parameter DualReductions unchanged\n",
      "   Value: 1  Min: 0  Max: 1  Default: 1\n",
      "Method: kuroda_1\n",
      "Parameter BarConvTol unchanged\n",
      "   Value: 1e-08  Min: 0.0  Max: 1.0  Default: 1e-08\n",
      "Parameter BarQCPConvTol unchanged\n",
      "   Value: 1e-06  Min: 0.0  Max: 1.0  Default: 1e-06\n",
      "Parameter DualReductions unchanged\n",
      "   Value: 1  Min: 0  Max: 1  Default: 1\n"
     ]
    }
   ],
   "source": [
    "#Эксперимент: проекция таблицы DET_2012 из таблицы totals_2012\n",
    "#Бенчмарк: DET_2007\n",
    "#Ограничения: таблица totals_2012\n",
    "#Методы: NRAS, точность 0.01, 100 иттераций, INSD, Kuroda(1,2,3)\n",
    "\n",
    "experiments('', 'det_2007', 'totals_2012', 'det_2012', 'проекция')"
   ]
  },
  {
   "cell_type": "code",
   "execution_count": 21,
   "metadata": {},
   "outputs": [
    {
     "name": "stdout",
     "output_type": "stream",
     "text": [
      "Method: nras\n",
      "78\n",
      "Method: insd\n",
      "Parameter BarConvTol unchanged\n",
      "   Value: 1e-08  Min: 0.0  Max: 1.0  Default: 1e-08\n",
      "Parameter BarQCPConvTol unchanged\n",
      "   Value: 1e-06  Min: 0.0  Max: 1.0  Default: 1e-06\n",
      "Changed value of parameter DualReductions to 0\n",
      "   Prev: 1  Min: 0  Max: 1  Default: 1\n",
      "Method: kuroda_3\n",
      "Parameter BarConvTol unchanged\n",
      "   Value: 1e-08  Min: 0.0  Max: 1.0  Default: 1e-08\n",
      "Parameter BarQCPConvTol unchanged\n",
      "   Value: 1e-06  Min: 0.0  Max: 1.0  Default: 1e-06\n",
      "Parameter DualReductions unchanged\n",
      "   Value: 1  Min: 0  Max: 1  Default: 1\n",
      "Method: kuroda_2\n",
      "Parameter BarConvTol unchanged\n",
      "   Value: 1e-08  Min: 0.0  Max: 1.0  Default: 1e-08\n",
      "Parameter BarQCPConvTol unchanged\n",
      "   Value: 1e-06  Min: 0.0  Max: 1.0  Default: 1e-06\n",
      "Parameter DualReductions unchanged\n",
      "   Value: 1  Min: 0  Max: 1  Default: 1\n",
      "Method: kuroda_1\n",
      "Parameter BarConvTol unchanged\n",
      "   Value: 1e-08  Min: 0.0  Max: 1.0  Default: 1e-08\n",
      "Parameter BarQCPConvTol unchanged\n",
      "   Value: 1e-06  Min: 0.0  Max: 1.0  Default: 1e-06\n",
      "Parameter DualReductions unchanged\n",
      "   Value: 1  Min: 0  Max: 1  Default: 1\n"
     ]
    }
   ],
   "source": [
    "#Эксперимент: проекция таблицы DET_2007 из таблицы totals_2007\n",
    "#Бенчмарк: DET_2012\n",
    "#Ограничения: таблица totals_2007\n",
    "#Методы: NRAS, точность 0.01, 100 иттераций, INSD, Kuroda(1,2,3)\n",
    "\n",
    "experiments('', 'det_2012', 'totals_2007', 'det_2007', 'проекция')"
   ]
  },
  {
   "cell_type": "code",
   "execution_count": null,
   "metadata": {},
   "outputs": [],
   "source": []
  }
 ],
 "metadata": {
  "kernelspec": {
   "display_name": "Python 3",
   "language": "python",
   "name": "python3"
  },
  "language_info": {
   "codemirror_mode": {
    "name": "ipython",
    "version": 3
   },
   "file_extension": ".py",
   "mimetype": "text/x-python",
   "name": "python",
   "nbconvert_exporter": "python",
   "pygments_lexer": "ipython3",
   "version": "3.7.3"
  },
  "pycharm": {
   "stem_cell": {
    "cell_type": "raw",
    "metadata": {
     "collapsed": false
    },
    "source": []
   }
  }
 },
 "nbformat": 4,
 "nbformat_minor": 1
}
