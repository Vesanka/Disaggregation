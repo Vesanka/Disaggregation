{
 "cells": [
  {
   "cell_type": "code",
   "execution_count": null,
   "metadata": {
    "pycharm": {
     "is_executing": false,
     "name": "#%%\n"
    }
   },
   "outputs": [],
   "source": [
    "from scripts import support, metrics, vectorization as v, aggregation\n",
    "from scripts.kuroda import kuroda\n",
    "from scripts.insd import insd\n",
    "from scripts.nras import nras\n",
    "import numpy as np\n",
    "import pandas as pd\n",
    "import matplotlib.pyplot as plt\n",
    "import sys\n",
    "from scipy.sparse import csr_matrix\n",
    "%matplotlib inline"
   ]
  },
  {
   "cell_type": "code",
   "execution_count": null,
   "metadata": {},
   "outputs": [],
   "source": [
    "# Базовая таблица РЕСУРСОВ за 2011\n",
    "\n",
    "df = pd.read_excel(\"./data/baz-2011_nom2016.xlsx\", \"ТИцп \")\n",
    "df = df.iloc[1:-11,3:-13]\n",
    "df = df.fillna(0)\n",
    "\n",
    "CP_2011_codes = df.drop(df.index[[1]], axis=0) # таблица 2011 года с кодами\n",
    "CP_2011 = df.drop(df.index[[0,1]], axis=0) # таблица 2011 года без кодов\n",
    "\n",
    "CP_2011 = np.array(df.drop(df.index[[0,1]], axis=0))\n",
    "CP_2011_table = CP_2011\n",
    "CP_2011 = v.tovector(CP_2011).astype(float) # векторизовали"
   ]
  },
  {
   "cell_type": "code",
   "execution_count": null,
   "metadata": {},
   "outputs": [],
   "source": [
    "df = pd.read_excel(\"./data/aggregated2011.xls\", \"ТИцп\")\n",
    "df = df.iloc[3:-11,3:-13]\n",
    "agg_CP_2011 = np.array(df.fillna(0))\n",
    "\n",
    "agg_CP_2011 = v.tovector(agg_CP_2011).astype(float) # векторизовали"
   ]
  },
  {
   "cell_type": "code",
   "execution_count": null,
   "metadata": {},
   "outputs": [],
   "source": [
    "# базовая таблица РЕСУРСОВ за 2016\n",
    "\n",
    "df = pd.read_excel(\"./data/baz2016.xlsx\", \"ТИцп\")\n",
    "df = df.iloc[1:-11,3:-13]\n",
    "df = df.fillna(0)\n",
    "\n",
    "CP_2016_codes = df.drop(df.index[[1]], axis=0) # таблица 2011 года с кодами\n",
    "CP_2016 = df.drop(df.index[[0,1]], axis=0) # таблица 2011 года без кодов\n",
    "\n",
    "show_CP_2016_codes = CP_2016_codes # сохранили, чтобы была возможность в любой момент посмотреть таблицу\n",
    "show_CP_2016 = CP_2016\n",
    "CP_2016 = np.array(df.drop(df.index[[0,1]], axis=0))\n",
    "CP_2016_table = CP_2016\n",
    "CP_2016 = v.tovector(CP_2016).astype(float) # векторизовали"
   ]
  },
  {
   "cell_type": "code",
   "execution_count": null,
   "metadata": {},
   "outputs": [],
   "source": [
    "df = pd.read_excel(\"./data/aggregated2016.xls\", \"ТИцп\")\n",
    "df = df.iloc[3:-11,3:-13]\n",
    "agg_CP_2016 = np.array(df.fillna(0))\n",
    "\n",
    "agg_CP_2016 = v.tovector(agg_CP_2016).astype(float) # векторизовали"
   ]
  },
  {
   "cell_type": "code",
   "execution_count": null,
   "metadata": {},
   "outputs": [],
   "source": [
    "# В строке с кодами оставим только первые два символа - по ним и будем объединять\n",
    "\n",
    "for i in range(98):\n",
    "    a = str(CP_2011_codes.ix[1][i])\n",
    "    a = a[:2]\n",
    "    CP_2011_codes.ix[1][i] = a\n",
    "    \n",
    "CP_2011_codes.columns = CP_2011_codes.iloc[0] # сделали преобразованную строку с кодами -- заголовками\n",
    "CP_2011_codes = CP_2011_codes.drop(CP_2011_codes.index[0]) # избавились от отдельной строки с кодами\n",
    "\n",
    "CP_2011_codes = CP_2011_codes.groupby(CP_2011_codes.columns, axis=1)\n",
    "right_11 = CP_2011_codes.size().array.to_numpy()\n",
    "\n",
    "CP_2011_codes = CP_2011_codes.sum()"
   ]
  },
  {
   "cell_type": "code",
   "execution_count": null,
   "metadata": {},
   "outputs": [],
   "source": [
    "# Создаем функцию, которая будет отрезать первые две цифры кода продукта\n",
    "\n",
    "def splitter(x):    \n",
    "    a = str(x)\n",
    "    a=a[:2]\n",
    "    return a\n",
    "\n",
    "df = pd.read_excel(\"./data/baz-2011_nom2016.xlsx\", \"ТИцп \") # считали столбец с кодами\n",
    "df = df.iloc[3:-3,1:2]\n",
    "df = df.fillna(0)\n",
    "CP_2011_codes['codes_prod'] = df\n",
    "\n",
    "CP_2011_codes['codes_prod'] = CP_2011_codes['codes_prod'].apply(lambda x: splitter(x))  # преобразовали все коды до двух цифр\n",
    "\n",
    "CP_2011_codes = CP_2011_codes.groupby(CP_2011_codes['codes_prod'])\n",
    "left_11 = CP_2011_codes.size().array.to_numpy()"
   ]
  },
  {
   "cell_type": "markdown",
   "metadata": {},
   "source": [
    "#### Проверка:\n",
    "Считаем файл с готовой агрегацией (`aggregated2011.xls`) и сверим нашу агрегацию с готовой."
   ]
  },
  {
   "cell_type": "code",
   "execution_count": null,
   "metadata": {},
   "outputs": [],
   "source": [
    "left = aggregation.make_keym(206, 59, left_11)\n",
    "right = aggregation.make_keym(98, 59, right_11)"
   ]
  },
  {
   "cell_type": "code",
   "execution_count": null,
   "metadata": {},
   "outputs": [],
   "source": [
    "g_agg = aggregation.keys_to_g(left.astype(float), right.astype(float))"
   ]
  },
  {
   "cell_type": "code",
   "execution_count": null,
   "metadata": {},
   "outputs": [],
   "source": [
    "((np.array(g_agg @ CP_2011)-np.array(agg_CP_2011))**2).sum()"
   ]
  },
  {
   "cell_type": "code",
   "execution_count": null,
   "metadata": {},
   "outputs": [],
   "source": [
    "((np.array(g_agg @ CP_2016)-np.array(agg_CP_2016))**2).sum()"
   ]
  },
  {
   "cell_type": "code",
   "execution_count": null,
   "metadata": {},
   "outputs": [],
   "source": [
    "# Занулим элементы, в которых меняется знак\n",
    "\n",
    "CP_2011[CP_2011 * CP_2016 < 0] = 0\n",
    "CP_2016[CP_2011 * CP_2016 < 0] = 0\n",
    "\n",
    "agg_CP_2011[agg_CP_2011 * agg_CP_2016 < 0] = 0\n",
    "agg_CP_2016[agg_CP_2011 * agg_CP_2016 < 0] = 0"
   ]
  },
  {
   "cell_type": "code",
   "execution_count": null,
   "metadata": {},
   "outputs": [],
   "source": [
    "# Считаем суммы по строкам и столбцам\n",
    "\n",
    "# Для 2011 года:\n",
    "rows_sums_CP_2011 = np.sum(CP_2011_table, axis=1)\n",
    "columns_sums_CP_2011 = np.sum(CP_2011_table, axis=0)\n",
    "totals_CP_2011 = np.concatenate((rows_sums_CP_2011, columns_sums_CP_2011)).astype(float)[np.newaxis].T\n",
    "\n",
    "# Для 2016 года:\n",
    "rows_sums_CP_2016 = np.sum(CP_2016_table, axis=1)\n",
    "columns_sums_CP_2016 = np.sum(CP_2016_table, axis=0)\n",
    "totals_CP_2016 = np.concatenate((rows_sums_CP_2016, columns_sums_CP_2016)).astype(float)[np.newaxis].T"
   ]
  },
  {
   "cell_type": "code",
   "execution_count": null,
   "metadata": {},
   "outputs": [],
   "source": [
    "agg_CP_2016_w_totals = np.vstack((agg_CP_2016, totals_CP_2016))"
   ]
  },
  {
   "cell_type": "code",
   "execution_count": null,
   "metadata": {},
   "outputs": [],
   "source": [
    "# from scripts import support, metrics, vectorization as v, aggregation\n",
    "\n",
    "def experiment(tables_kind, method_name, bench_matrix, origin_matrix, target_matrix, experiment_type, sparsed = True, save = True, totals = False):\n",
    "    \"\"\"\n",
    "    Получение результата эксперимента\n",
    "\n",
    "    Parameters\n",
    "    ----------\n",
    "    tables_kind: string\n",
    "        степень аггрегации таблиц\n",
    "    method_name: string\n",
    "        метод для получения новой матрицы\n",
    "    bench_matrix: np.array или sparse матрица\n",
    "        бенчмарк таблица\n",
    "    origin_matrix: np.array или sparse матрица\n",
    "        оригинальная таблица\n",
    "    target_matrix: np.array или sparse матрица\n",
    "        целевая таблица\n",
    "    experiment_type: string\n",
    "        агрегация\\дезаггрегация\\проекция\n",
    "    sparse: bool\n",
    "        использовать sparse матрицу или np.array\n",
    "    Returns\n",
    "    -------\n",
    "    a: float\n",
    "        значение метрики\n",
    "    \"\"\"\n",
    "    if experiment_type == 'дезаггрегация':\n",
    "        g = g_agg\n",
    "    elif experiment_type == 'проекция':\n",
    "        ttls = v.addrows((206,98))\n",
    "        g = v.addcolumns((206,98), ttls)\n",
    "    else:\n",
    "        raise Exception(\"Wrong experiment_type\",experiment_type)  \n",
    "    \n",
    "\n",
    "    if sparsed:\n",
    "        g = csr_matrix(g)\n",
    "        \n",
    "    if totals:\n",
    "        g = v.addrows((206,98), g, sparsed=sparsed)\n",
    "        g = v.addcolumns((206,98), g, sparsed=sparsed)\n",
    "    \n",
    "    # For Kuroda\n",
    "    if len(method_name.split('_')) > 1:\n",
    "        \n",
    "        method, mtype = method_name.split('_')\n",
    "        method = eval(method)\n",
    "        results = np.round(method(g, eval(bench_matrix), eval(origin_matrix), mtype=int(mtype), sparsed=sparsed))\n",
    "    else:\n",
    "        method = eval(method_name)\n",
    "        results = method(g, eval(bench_matrix), eval(origin_matrix), sparsed=sparsed)\n",
    "    metrics_values = metrics.get_values(np.round(results), eval(target_matrix), save=True, shape = (206,98))\n",
    "    \n",
    "    # Save metrics' results\n",
    "    if save:\n",
    "        info = {'method':method_name, 'experiment_type':experiment_type, 'target_matrix':target_matrix, \n",
    "                'origin_matrix':origin_matrix, 'bench_matrix':bench_matrix}\n",
    "        info = {**info,**metrics_values}\n",
    "\n",
    "        res_table = pd.read_excel('results/results_rus_cp.xlsx')\n",
    "        res_table = res_table.append([info])\n",
    "        res_table.to_excel('results/results_rus_cp.xlsx', index=None,encoding='utf-8')\n",
    "\n",
    "    return metrics_values \n",
    "\n",
    "def experiments(tables_kind, bench_matrix, origin_matrix, target_matrix, experiment_type, totals = False):\n",
    "    methods_list = ['nras','insd','kuroda_3','kuroda_2','kuroda_1']\n",
    "    sparsed = True\n",
    "    for i, method in enumerate(methods_list):\n",
    "        print('Method:', method)\n",
    "        if i > 2:\n",
    "            sparsed = False\n",
    "        experiment(tables_kind, method, bench_matrix, origin_matrix, target_matrix, experiment_type, \n",
    "                   sparsed = sparsed, totals = totals)\n",
    "            "
   ]
  },
  {
   "cell_type": "code",
   "execution_count": null,
   "metadata": {},
   "outputs": [],
   "source": [
    "#Эксперимент: дезаггрегация таблицы 2016 из таблицы 2011\n",
    "#Бенчмарк: таблица 2011\n",
    "#Ограничения: таблица agg_OC_2016\n",
    "#Методы: NRAS, точность 0.01, 100 иттераций, INSD, Kuroda(1,2,3)\n",
    "\n",
    "experiments('', 'CP_2011', 'agg_CP_2016', 'CP_2016', 'дезаггрегация')"
   ]
  },
  {
   "cell_type": "code",
   "execution_count": null,
   "metadata": {},
   "outputs": [],
   "source": [
    "#Эксперимент: проекция таблицы 2016 из таблицы 2011\n",
    "#Бенчмарк: таблица 2011\n",
    "#Ограничения: окаймляющие итоги\n",
    "#Методы: NRAS, точность 0.01, 100 иттераций, INSD, Kuroda(1,2,3)\n",
    "\n",
    "experiments('', 'CP_2011', 'totals_CP_2016', 'CP_2016', 'проекция')"
   ]
  },
  {
   "cell_type": "code",
   "execution_count": null,
   "metadata": {},
   "outputs": [],
   "source": [
    "#Эксперимент: проекция + дезагрегация таблицы 2016 из таблицы 2011\n",
    "#Бенчмарк: таблица 2011\n",
    "#Ограничения: окаймляющие итоги + таблица agg_OC_2016\n",
    "#Методы: NRAS, точность 0.01, 100 иттераций, INSD, Kuroda(1,2,3)\n",
    "\n",
    "experiments('', 'CP_2011', 'agg_CP_2016_w_totals', 'CP_2016', 'дезаггрегация', totals=True)"
   ]
  },
  {
   "cell_type": "markdown",
   "metadata": {},
   "source": [
    "-----------"
   ]
  }
 ],
 "metadata": {
  "kernelspec": {
   "display_name": "Python 3",
   "language": "python",
   "name": "python3"
  },
  "language_info": {
   "codemirror_mode": {
    "name": "ipython",
    "version": 3
   },
   "file_extension": ".py",
   "mimetype": "text/x-python",
   "name": "python",
   "nbconvert_exporter": "python",
   "pygments_lexer": "ipython3",
   "version": "3.7.3"
  },
  "pycharm": {
   "stem_cell": {
    "cell_type": "raw",
    "metadata": {
     "collapsed": false
    },
    "source": []
   }
  }
 },
 "nbformat": 4,
 "nbformat_minor": 4
}
